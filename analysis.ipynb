{
 "cells": [
  {
   "cell_type": "code",
   "execution_count": null,
   "metadata": {
    "collapsed": true
   },
   "outputs": [],
   "source": [
    "import pandas as pd\n",
    "import numpy as np\n",
    "import matplotlib.pyplot as plt\n",
    "import seaborn as sns\n",
    "%matplotlib inline\n",
    "import trainer as tn"
   ]
  },
  {
   "cell_type": "code",
   "execution_count": null,
   "metadata": {
    "collapsed": true
   },
   "outputs": [],
   "source": [
    "data = tn.load_saved_data(\"./save.txt\")"
   ]
  },
  {
   "cell_type": "markdown",
   "metadata": {},
   "source": [
    "Number of samples"
   ]
  },
  {
   "cell_type": "code",
   "execution_count": null,
   "metadata": {
    "collapsed": false
   },
   "outputs": [],
   "source": [
    "len(data)"
   ]
  },
  {
   "cell_type": "markdown",
   "metadata": {},
   "source": [
    "Total time spent practicing:"
   ]
  },
  {
   "cell_type": "code",
   "execution_count": null,
   "metadata": {
    "collapsed": false
   },
   "outputs": [],
   "source": [
    "total_time = 0\n",
    "for d in data:\n",
    "    total_time += d.get(\"full_history\")[-1][2]\n",
    "\n",
    "print \"{}:{}:{}\".format(int(total_time/3600),int((total_time%3600)/60),int(total_time%60))"
   ]
  },
  {
   "cell_type": "markdown",
   "metadata": {},
   "source": [
    "Extracting letter times"
   ]
  },
  {
   "cell_type": "code",
   "execution_count": null,
   "metadata": {
    "collapsed": false
   },
   "outputs": [],
   "source": [
    "letter_histories = {}\n",
    "all_letters = []\n",
    "all_events = []\n",
    "\n",
    "for d in data:\n",
    "    full_history_iterator = d.get(\"full_history\").__iter__()\n",
    "    _, _, prev_time = full_history_iterator.next()[:3]\n",
    "    batch_datetime = d.get(\"datetime\")\n",
    "    for event in full_history_iterator:\n",
    "        if event[0] == \"success\":\n",
    "            event_type, letter, time, errored = event\n",
    "            letter_histories.setdefault(letter,[])\n",
    "            letter_histories[letter].append(time-prev_time)\n",
    "            all_letters.append(time-prev_time)\n",
    "        else:\n",
    "            event_type, letter, time = event\n",
    "            errored = None\n",
    "        all_events.append(dict(\n",
    "                batch_datetime = batch_datetime,\n",
    "                letter = letter,\n",
    "                event_type = event_type,\n",
    "                time = time,\n",
    "                dt = time - prev_time,\n",
    "                errored = errored\n",
    "            ))\n",
    "        prev_time = time"
   ]
  },
  {
   "cell_type": "code",
   "execution_count": null,
   "metadata": {
    "collapsed": false,
    "scrolled": false
   },
   "outputs": [],
   "source": [
    "plt.figure(figsize=(12,8))\n",
    "plt.plot(np.array(letter_histories[\"e\"]))"
   ]
  },
  {
   "cell_type": "code",
   "execution_count": null,
   "metadata": {
    "collapsed": false
   },
   "outputs": [],
   "source": [
    "letter = \"e\"\n",
    "plt.figure(figsize=(12,8))\n",
    "sns.regplot(np.arange(len(letter_histories[letter])),np.log(np.array(letter_histories[letter])),x_bins=100)"
   ]
  },
  {
   "cell_type": "code",
   "execution_count": null,
   "metadata": {
    "collapsed": false
   },
   "outputs": [],
   "source": [
    "plt.figure(figsize=(12,8))\n",
    "sns.regplot(np.arange(len(all_letters)),np.array(all_letters),x_bins=100)"
   ]
  },
  {
   "cell_type": "markdown",
   "metadata": {},
   "source": [
    "What are my worst letters?"
   ]
  },
  {
   "cell_type": "code",
   "execution_count": null,
   "metadata": {
    "collapsed": true
   },
   "outputs": [],
   "source": [
    "df = pd.DataFrame(all_events)"
   ]
  },
  {
   "cell_type": "code",
   "execution_count": null,
   "metadata": {
    "collapsed": false
   },
   "outputs": [],
   "source": [
    "criterion = (df.event_type == \"success\")\n",
    "df[criterion].groupby(\"letter\").mean().sort_values(\"dt\")[\"dt\"].plot(kind=\"barh\",figsize=(12,20))"
   ]
  },
  {
   "cell_type": "code",
   "execution_count": null,
   "metadata": {
    "collapsed": false
   },
   "outputs": [],
   "source": [
    "plot_order = df[criterion].groupby(\"letter\").mean().sort_values(\"dt\").index"
   ]
  },
  {
   "cell_type": "code",
   "execution_count": null,
   "metadata": {
    "collapsed": true
   },
   "outputs": [],
   "source": [
    "df[\"log_dt\"] = np.log(df[\"dt\"])"
   ]
  },
  {
   "cell_type": "code",
   "execution_count": null,
   "metadata": {
    "collapsed": false
   },
   "outputs": [],
   "source": [
    "plt.figure(figsize=(16,30))\n",
    "sns.boxplot(x=\"dt\",y=\"letter\",data=df[criterion], orient=\"h\", order=plot_order, showfliers=False)"
   ]
  },
  {
   "cell_type": "code",
   "execution_count": null,
   "metadata": {
    "collapsed": true
   },
   "outputs": [],
   "source": []
  }
 ],
 "metadata": {
  "anaconda-cloud": {},
  "kernelspec": {
   "display_name": "Python [default]",
   "language": "python",
   "name": "python2"
  },
  "language_info": {
   "codemirror_mode": {
    "name": "ipython",
    "version": 2
   },
   "file_extension": ".py",
   "mimetype": "text/x-python",
   "name": "python",
   "nbconvert_exporter": "python",
   "pygments_lexer": "ipython2",
   "version": "2.7.12"
  }
 },
 "nbformat": 4,
 "nbformat_minor": 2
}
